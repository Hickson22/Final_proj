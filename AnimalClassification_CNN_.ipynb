{
 "cells": [
  {
   "cell_type": "code",
   "execution_count": 1,
   "id": "d0050843",
   "metadata": {},
   "outputs": [],
   "source": [
    "from tensorflow.keras.preprocessing.image import ImageDataGenerator\n",
    "\n",
    "from PIL import Image\n",
    "import numpy as np\n",
    "import pandas as pd\n",
    "import matplotlib.pyplot as plt\n",
    "import glob\n",
    "from skimage import io, color"
   ]
  },
  {
   "cell_type": "code",
   "execution_count": 2,
   "id": "d6267b74",
   "metadata": {},
   "outputs": [],
   "source": [
    "from tensorflow.keras.preprocessing.image import load_img, img_to_array\n",
    "from PIL import Image\n",
    "import numpy as np\n",
    "import pandas as pd\n",
    "import matplotlib.pyplot as plt\n",
    "import glob\n",
    "from skimage import io, color\n",
    "from IPython.display import display\n",
    "from IPython.display import Image\n",
    "from skimage.io.collection import ImageCollection\n",
    "import os"
   ]
  },
  {
   "cell_type": "markdown",
   "id": "00a09f64",
   "metadata": {},
   "source": [
    "## Image Exploration"
   ]
  },
  {
   "cell_type": "code",
   "execution_count": null,
   "id": "2e5b200d",
   "metadata": {},
   "outputs": [],
   "source": []
  },
  {
   "cell_type": "markdown",
   "id": "f2611444",
   "metadata": {},
   "source": [
    "### Training Image Set"
   ]
  },
  {
   "cell_type": "code",
   "execution_count": 3,
   "id": "d5faa553",
   "metadata": {},
   "outputs": [],
   "source": [
    "images_t = glob.glob('Train/*', recursive = False)\n",
    "bin_class_t = np.zeros(len(images_t))\n",
    "\n",
    "for img_t in images_t:\n",
    "    if 'elephant' in img_t:\n",
    "        bin_class_t[images_t.index(img_t)] = 0\n",
    "    else:\n",
    "        bin_class_t[images_t.index(img_t)] = 1\n"
   ]
  },
  {
   "cell_type": "code",
   "execution_count": 4,
   "id": "398eca6f",
   "metadata": {},
   "outputs": [],
   "source": [
    "img_tl = []\n",
    "for img_tr in images_t:\n",
    "       \n",
    "    temp_t = load_img(img_tr)\n",
    "    temp_t = img_to_array(temp_t.resize((50,50)))\n",
    "    img_tl.append(temp_t)\n",
    "\n",
    "img_tlf = np.array(img_tl)/225\n"
   ]
  },
  {
   "cell_type": "code",
   "execution_count": 5,
   "id": "b5d29bb1",
   "metadata": {},
   "outputs": [],
   "source": [
    "train_images = img_tlf.astype('float32')\n",
    "train_labels = np.array(bin_class_t)"
   ]
  },
  {
   "cell_type": "markdown",
   "id": "8b6be43d",
   "metadata": {},
   "source": [
    "### Validation Images Set"
   ]
  },
  {
   "cell_type": "code",
   "execution_count": 6,
   "id": "38fd7deb",
   "metadata": {},
   "outputs": [],
   "source": [
    "images_v = glob.glob('Valid/*', recursive = False)\n",
    "\n",
    "bin_class_v = np.zeros(len(images_v))\n",
    "\n",
    "for img_v in images_v:\n",
    "    if 'elephant' in img_v:\n",
    "        bin_class_v[images_v.index(img_v)] = 0\n",
    "    else:\n",
    "        bin_class_v[images_v.index(img_v)] = 1"
   ]
  },
  {
   "cell_type": "code",
   "execution_count": 7,
   "id": "32d0003c",
   "metadata": {},
   "outputs": [
    {
     "name": "stdout",
     "output_type": "stream",
     "text": [
      "Done\n"
     ]
    }
   ],
   "source": [
    "img_vl = []\n",
    "for img_tsr in images_v:\n",
    "       \n",
    "    temp_v = load_img(img_tsr)\n",
    "    temp_v = img_to_array(temp_v.resize((50,50)))\n",
    "    img_vl.append(temp_v)\n",
    "\n",
    "\n",
    "img_vlf = np.array(img_vl)/225\n",
    "print('Done')"
   ]
  },
  {
   "cell_type": "code",
   "execution_count": 8,
   "id": "f3bc4e07",
   "metadata": {},
   "outputs": [],
   "source": [
    "valid_images = img_vlf.astype('float32')\n",
    "valid_labels = np.array(bin_class_v)"
   ]
  },
  {
   "cell_type": "markdown",
   "id": "2ead5281",
   "metadata": {},
   "source": [
    "### Test Image Set"
   ]
  },
  {
   "cell_type": "code",
   "execution_count": 9,
   "id": "39df1a7a",
   "metadata": {},
   "outputs": [],
   "source": [
    "images_test = glob.glob('Test/*', recursive = False)\n",
    "\n",
    "bin_class_test = np.zeros(len(images_test))\n",
    "\n",
    "for img_ts in images_test:\n",
    "    if 'elephant' in img_ts:\n",
    "        bin_class_test[images_test.index(img_ts)] = 0\n",
    "    else:\n",
    "        bin_class_test[images_test.index(img_ts)] = 1"
   ]
  },
  {
   "cell_type": "code",
   "execution_count": 10,
   "id": "9b78d789",
   "metadata": {},
   "outputs": [
    {
     "name": "stdout",
     "output_type": "stream",
     "text": [
      "Done\n"
     ]
    }
   ],
   "source": [
    "img_testl = []\n",
    "for img_tsr in images_test:\n",
    "       \n",
    "    temp_ts = load_img(img_tsr)\n",
    "    temp_ts = img_to_array(temp_ts.resize((50,50)))\n",
    "    img_testl.append(temp_ts)\n",
    "\n",
    "img_testlf = np.array(img_testl)/225\n",
    "print('Done')"
   ]
  },
  {
   "cell_type": "code",
   "execution_count": 11,
   "id": "c783c1fd",
   "metadata": {},
   "outputs": [],
   "source": [
    "test_images = img_testlf.astype('float32')\n",
    "test_labels = np.array(bin_class_test)"
   ]
  },
  {
   "cell_type": "code",
   "execution_count": 12,
   "id": "f40fa445",
   "metadata": {},
   "outputs": [
    {
     "data": {
      "text/plain": [
       "(9999, 50, 50, 3)"
      ]
     },
     "metadata": {},
     "output_type": "display_data"
    }
   ],
   "source": [
    "display(train_images.shape)"
   ]
  },
  {
   "cell_type": "markdown",
   "id": "96af6619",
   "metadata": {},
   "source": [
    "#### Preprocessing Comment: The image data had been normalised and converted to a float32 type, as this generally speeds up learning and leads to faster convergence."
   ]
  },
  {
   "cell_type": "markdown",
   "id": "bdc7b352",
   "metadata": {},
   "source": [
    "### CNN Model Build "
   ]
  },
  {
   "cell_type": "markdown",
   "id": "3d935907",
   "metadata": {},
   "source": [
    "#### Build Tuned CNN Model"
   ]
  },
  {
   "cell_type": "code",
   "execution_count": 13,
   "id": "344b086a",
   "metadata": {},
   "outputs": [
    {
     "name": "stdout",
     "output_type": "stream",
     "text": [
      "Trial 6 Complete [00h 02m 57s]\n",
      "val_accuracy: 0.8734999895095825\n",
      "\n",
      "Best val_accuracy So Far: 0.8955000042915344\n",
      "Total elapsed time: 00h 09m 54s\n",
      "INFO:tensorflow:Oracle triggered exit\n"
     ]
    }
   ],
   "source": [
    "import tensorflow as tf\n",
    "import matplotlib.pyplot as plt\n",
    "import numpy as np\n",
    "from tensorflow import keras\n",
    "\n",
    "from kerastuner.tuners import RandomSearch\n",
    "\n",
    "\n",
    "def build_model(hp):\n",
    "    model_t = keras.Sequential()\n",
    "    \n",
    "    model_t.add(keras.layers.AveragePooling2D(6,3,input_shape = (50,50,3)))\n",
    "    \n",
    "              \n",
    "    for i in range(hp.Int(\"Convolution Layers\",min_value = 0,max_value=6)):\n",
    "        model_t.add(keras.layers.Conv2D(hp.Choice(f\"layer_{i}_filters\",[32,64,96,128,160]),3,activation = 'relu'))\n",
    "        \n",
    "             \n",
    "    model_t.add(keras.layers.Conv2D(32,3,activation = 'relu'))\n",
    "    model_t.add(keras.layers.MaxPooling2D((2,2),padding='same'))\n",
    "    model_t.add(keras.layers.Dropout(0.5))\n",
    "    model_t.add(keras.layers.Flatten())\n",
    "              \n",
    "    model_t.add(keras.layers.Dense(hp.Choice(\"Dense Layer\",[32,64,128,160]),activation = 'relu'))\n",
    "    model_t.add(keras.layers.Dense(1,activation = 'sigmoid')) \n",
    "    \n",
    "        \n",
    "    model_t.compile(optimizer='adam',\n",
    "             loss = keras.losses.BinaryCrossentropy(from_logits = True), \n",
    "             metrics = ['accuracy'])   #\n",
    "    \n",
    "    return model_t\n",
    "\n",
    "\n",
    "tuner = RandomSearch(\n",
    "        build_model,\n",
    "        objective = 'val_accuracy', \n",
    "        max_trials = 6,\n",
    "        executions_per_trial = 1,\n",
    "        directory = ('s_'))\n",
    "              \n",
    "tuner.search(train_images,train_labels, validation_data = (valid_images,valid_labels),epochs =5, batch_size = 32)\n"
   ]
  },
  {
   "cell_type": "markdown",
   "id": "9553e05f",
   "metadata": {},
   "source": [
    "#### A CNN model was built for the purpose of classifying images into two categories. As there were only two categories, these categories were handles as binary classification. With the value 1 indicating an Elephant and value 0 indicating a Zebra. As this was binary classification a binary crossentropy loss function was used. With regards to optimization, an Adam optimizer was used for the following reasons:  1) Its computationally and memory efficient. 2) It doesn't require tuning of the learning rate, as it is adaptive. 3) It works well with large datasets, as in our case. Dropout was used in the CNN as a way to ensure generalization of the model.  From the above output (see above cell) , one can see that the CNN model was built using parameters that allowed it to score a 90% accuracy in predicting the correct images from the validation set. The parameters that were tuned was the additional amount of convolution layers and the various filters based to these layers and the fully-connected layers(Density layer). The resulting hyperparameters were: \n",
    "\n",
    "#### Amount of Convolution layers (excluding the untuned/permanent one) : 1\n",
    "#### First Additional Convolution Layer Filter: 32\n",
    "####  Density Layer Filter: 128\n"
   ]
  },
  {
   "cell_type": "markdown",
   "id": "be31c515",
   "metadata": {},
   "source": [
    "#### Get summary of Results"
   ]
  },
  {
   "cell_type": "code",
   "execution_count": 14,
   "id": "97ccf9d9",
   "metadata": {},
   "outputs": [
    {
     "name": "stdout",
     "output_type": "stream",
     "text": [
      "Results summary\n",
      "Results in s_\\untitled_project\n",
      "Showing 1 best trials\n",
      "Objective(name='val_accuracy', direction='max')\n",
      "Trial summary\n",
      "Hyperparameters:\n",
      "Convolution Layers: 1\n",
      "Dense Layer: 128\n",
      "layer_0_filters: 160\n",
      "layer_1_filters: 160\n",
      "layer_2_filters: 96\n",
      "Score: 0.8955000042915344\n"
     ]
    }
   ],
   "source": [
    "res = tuner.results_summary(1)"
   ]
  },
  {
   "cell_type": "code",
   "execution_count": 15,
   "id": "375e9518",
   "metadata": {},
   "outputs": [
    {
     "name": "stdout",
     "output_type": "stream",
     "text": [
      "Model: \"sequential\"\n",
      "_________________________________________________________________\n",
      " Layer (type)                Output Shape              Param #   \n",
      "=================================================================\n",
      " average_pooling2d (AverageP  (None, 15, 15, 3)        0         \n",
      " ooling2D)                                                       \n",
      "                                                                 \n",
      " conv2d (Conv2D)             (None, 13, 13, 160)       4480      \n",
      "                                                                 \n",
      " conv2d_1 (Conv2D)           (None, 11, 11, 32)        46112     \n",
      "                                                                 \n",
      " max_pooling2d (MaxPooling2D  (None, 6, 6, 32)         0         \n",
      " )                                                               \n",
      "                                                                 \n",
      " dropout (Dropout)           (None, 6, 6, 32)          0         \n",
      "                                                                 \n",
      " flatten (Flatten)           (None, 1152)              0         \n",
      "                                                                 \n",
      " dense (Dense)               (None, 128)               147584    \n",
      "                                                                 \n",
      " dense_1 (Dense)             (None, 1)                 129       \n",
      "                                                                 \n",
      "=================================================================\n",
      "Total params: 198,305\n",
      "Trainable params: 198,305\n",
      "Non-trainable params: 0\n",
      "_________________________________________________________________\n"
     ]
    }
   ],
   "source": [
    "bm = tuner.get_best_models(1)[0]\n",
    "\n",
    "bm.summary()\n"
   ]
  },
  {
   "cell_type": "markdown",
   "id": "cd772d5d",
   "metadata": {},
   "source": [
    "### See above for the structure of the best performing neural network"
   ]
  },
  {
   "cell_type": "markdown",
   "id": "c8dc5612",
   "metadata": {},
   "source": [
    "#### Get the Best Model "
   ]
  },
  {
   "cell_type": "code",
   "execution_count": 16,
   "id": "7f9a4668",
   "metadata": {},
   "outputs": [],
   "source": [
    "best_model = tuner.get_best_models(1)[0]\n"
   ]
  },
  {
   "cell_type": "code",
   "execution_count": 17,
   "id": "64b4502f",
   "metadata": {},
   "outputs": [],
   "source": [
    "from keras.callbacks import EarlyStopping"
   ]
  },
  {
   "cell_type": "markdown",
   "id": "81e500d9",
   "metadata": {},
   "source": [
    "#### Set a callback (ie. stop loss) which stops fitting the model once the Validation Loss starts increasing"
   ]
  },
  {
   "cell_type": "code",
   "execution_count": 18,
   "id": "77f9afd7",
   "metadata": {},
   "outputs": [
    {
     "name": "stdout",
     "output_type": "stream",
     "text": [
      "Epoch 1/25\n",
      "313/313 [==============================] - 20s 62ms/step - loss: 0.2674 - accuracy: 0.8852 - val_loss: 0.2219 - val_accuracy: 0.9120\n",
      "Epoch 2/25\n",
      "313/313 [==============================] - 19s 61ms/step - loss: 0.2532 - accuracy: 0.8905 - val_loss: 0.2049 - val_accuracy: 0.9210\n",
      "Epoch 3/25\n",
      "313/313 [==============================] - 18s 59ms/step - loss: 0.2331 - accuracy: 0.9036 - val_loss: 0.2131 - val_accuracy: 0.9155\n",
      "Epoch 4/25\n",
      "313/313 [==============================] - 19s 59ms/step - loss: 0.2206 - accuracy: 0.9082 - val_loss: 0.2033 - val_accuracy: 0.9180\n",
      "Epoch 5/25\n",
      "313/313 [==============================] - 19s 59ms/step - loss: 0.2078 - accuracy: 0.9131 - val_loss: 0.1811 - val_accuracy: 0.9310\n",
      "Epoch 6/25\n",
      "313/313 [==============================] - 18s 59ms/step - loss: 0.1966 - accuracy: 0.9212 - val_loss: 0.1757 - val_accuracy: 0.9330\n",
      "Epoch 7/25\n",
      "313/313 [==============================] - 17s 56ms/step - loss: 0.1837 - accuracy: 0.9245 - val_loss: 0.1866 - val_accuracy: 0.9320\n",
      "Epoch 8/25\n",
      "313/313 [==============================] - 17s 56ms/step - loss: 0.1849 - accuracy: 0.9256 - val_loss: 0.1753 - val_accuracy: 0.9355\n",
      "Epoch 9/25\n",
      "313/313 [==============================] - 18s 56ms/step - loss: 0.1657 - accuracy: 0.9324 - val_loss: 0.1681 - val_accuracy: 0.9390\n",
      "Epoch 10/25\n",
      "313/313 [==============================] - 18s 57ms/step - loss: 0.1612 - accuracy: 0.9356 - val_loss: 0.1603 - val_accuracy: 0.9435\n",
      "Epoch 11/25\n",
      "313/313 [==============================] - 18s 57ms/step - loss: 0.1543 - accuracy: 0.9382 - val_loss: 0.1601 - val_accuracy: 0.9405\n",
      "Epoch 12/25\n",
      "313/313 [==============================] - 18s 57ms/step - loss: 0.1453 - accuracy: 0.9438 - val_loss: 0.1720 - val_accuracy: 0.9420\n",
      "Epoch 13/25\n",
      "313/313 [==============================] - 17s 56ms/step - loss: 0.1391 - accuracy: 0.9466 - val_loss: 0.1681 - val_accuracy: 0.9430\n",
      "Epoch 14/25\n",
      "313/313 [==============================] - 18s 57ms/step - loss: 0.1368 - accuracy: 0.9456 - val_loss: 0.1521 - val_accuracy: 0.9495\n",
      "Epoch 15/25\n",
      "313/313 [==============================] - 19s 60ms/step - loss: 0.1261 - accuracy: 0.9514 - val_loss: 0.1580 - val_accuracy: 0.9485\n",
      "Epoch 16/25\n",
      "313/313 [==============================] - 18s 56ms/step - loss: 0.1277 - accuracy: 0.9518 - val_loss: 0.1605 - val_accuracy: 0.9470\n",
      "Epoch 17/25\n",
      "313/313 [==============================] - 18s 57ms/step - loss: 0.1262 - accuracy: 0.9545 - val_loss: 0.1409 - val_accuracy: 0.9505\n",
      "Epoch 18/25\n",
      "313/313 [==============================] - 18s 58ms/step - loss: 0.1188 - accuracy: 0.9582 - val_loss: 0.1352 - val_accuracy: 0.9555\n",
      "Epoch 19/25\n",
      "313/313 [==============================] - 18s 58ms/step - loss: 0.1138 - accuracy: 0.9541 - val_loss: 0.1477 - val_accuracy: 0.9490\n",
      "Epoch 20/25\n",
      "313/313 [==============================] - 18s 57ms/step - loss: 0.1131 - accuracy: 0.9558 - val_loss: 0.1513 - val_accuracy: 0.9535\n",
      "Epoch 21/25\n",
      "313/313 [==============================] - 17s 55ms/step - loss: 0.1016 - accuracy: 0.9613 - val_loss: 0.1441 - val_accuracy: 0.9485\n"
     ]
    }
   ],
   "source": [
    "\n",
    "\n",
    "es = EarlyStopping(monitor = 'val_loss',mode='min',patience = 5,restore_best_weights=True)\n",
    "history = best_model.fit(train_images,train_labels, epochs = 25, batch_size = 32, validation_data= (valid_images,valid_labels), callbacks = [es])\n",
    "\n"
   ]
  },
  {
   "cell_type": "markdown",
   "id": "83c13321",
   "metadata": {},
   "source": [
    "#### See above: The best model was then fitted on the training data set."
   ]
  },
  {
   "cell_type": "code",
   "execution_count": 19,
   "id": "b679f726",
   "metadata": {},
   "outputs": [
    {
     "name": "stdout",
     "output_type": "stream",
     "text": [
      "63/63 [==============================] - 1s 13ms/step - loss: 0.1613 - accuracy: 0.9490\n",
      "Accuracy =  94.90000009536743 %\n"
     ]
    }
   ],
   "source": [
    "#Extract no. of Epochs model fitted for, and use same no. to evaluate the model on Test Data\n",
    "\n",
    "eps = len(history.history['val_loss'])\n",
    "\n",
    "_,acc = best_model.evaluate(test_images,test_labels)\n",
    "\n",
    "print(\"Accuracy = \",(acc*100.0),\"%\")\n",
    "\n",
    "test_accuracy = acc*100.0\n",
    "\n",
    "#train_acc = max(history.history['accuracy'])\n",
    "#display(train_acc)"
   ]
  },
  {
   "cell_type": "markdown",
   "id": "f87e07d8",
   "metadata": {},
   "source": [
    "### From the above cell one can see that the CNN model can predict whether an image is of a zebra or an elephant with 95% accuracy. "
   ]
  },
  {
   "cell_type": "code",
   "execution_count": 20,
   "id": "de654d4f",
   "metadata": {},
   "outputs": [
    {
     "name": "stdout",
     "output_type": "stream",
     "text": [
      "313/313 [==============================] - 4s 11ms/step - loss: 0.0605 - accuracy: 0.9809\n",
      "Accuracy =  98.08980822563171 %\n"
     ]
    }
   ],
   "source": [
    "eps = len(history.history['val_loss'])\n",
    "\n",
    "_,acc_tr = best_model.evaluate(train_images,train_labels)\n",
    "\n",
    "print(\"Accuracy = \",(acc_tr*100.0),\"%\")\n",
    "\n",
    "training_accuracy = acc_tr*100.0\n"
   ]
  },
  {
   "cell_type": "markdown",
   "id": "4fd99e55",
   "metadata": {},
   "source": [
    "### From the above cell we see that the training accuracy is not 100%. This is a good sign as it indicates that the likelihood of overfitting is slim. If it was 100% it would mean that we just create a model which memorizes every training example. However, such a model would not be helpful as it would be unable to generalize to unseen examples."
   ]
  },
  {
   "cell_type": "markdown",
   "id": "be7010bf",
   "metadata": {},
   "source": [
    "### Plots: "
   ]
  },
  {
   "cell_type": "markdown",
   "id": "30aeded3",
   "metadata": {},
   "source": [
    "#### Plot 1: Training & Validation Loss vs Epochs "
   ]
  },
  {
   "cell_type": "code",
   "execution_count": 21,
   "id": "8313a390",
   "metadata": {},
   "outputs": [
    {
     "data": {
      "image/png": "[encoded data removed]",
      "text/plain": [
       "<Figure size 432x288 with 1 Axes>"
      ]
     },
     "metadata": {
      "needs_background": "light"
     },
     "output_type": "display_data"
    }
   ],
   "source": [
    "loss = history.history[\"loss\"]\n",
    "val_loss = history.history[ \"val_loss\"]\n",
    "\n",
    "epochs = range(1,len(loss) + 1)\n",
    "\n",
    "plt.plot(epochs,loss,'y',label = \"Training loss\")\n",
    "plt.plot(epochs, val_loss,'r', label = \"Validation loss\")\n",
    "plt.title(\"Training & Validation Loss\")\n",
    "plt.xlabel('Epochs')\n",
    "plt.ylabel('Loss')\n",
    "plt.legend()\n",
    "plt.show()"
   ]
  },
  {
   "cell_type": "markdown",
   "id": "1ef1e9d2",
   "metadata": {},
   "source": [
    "### The Training & Validation loss vs Epoch graph indicates that the model overfitting occurs after the tenth epoch. This is indicated by: The plot of training loss continues to decrease with experience. The plot of validation loss decreases to a point and begins increasing again.This could indicate that the model has been trained for too long. Looking at the curve for epochs less than 10, the curve seems to be a good fit. The inflection point in validation loss may be the point at which training could be halted as experience after that point shows the dynamics of overfitting.\n",
    "\n"
   ]
  },
  {
   "cell_type": "markdown",
   "id": "469b6249",
   "metadata": {},
   "source": [
    "#### Plot 2: Training & Validation Accuracy vs Epochs "
   ]
  },
  {
   "cell_type": "code",
   "execution_count": 22,
   "id": "3b9288f2",
   "metadata": {},
   "outputs": [
    {
     "data": {
      "image/png": "[encoded data removed]",
      "text/plain": [
       "<Figure size 432x288 with 1 Axes>"
      ]
     },
     "metadata": {
      "needs_background": "light"
     },
     "output_type": "display_data"
    }
   ],
   "source": [
    "acc = history.history[\"accuracy\"]\n",
    "val_acc = history.history[ \"val_accuracy\"]\n",
    "\n",
    "plt.plot(epochs,acc,'y',label = \"Training acc\")\n",
    "plt.plot(epochs, val_acc,'r', label = \"Validation acc\")\n",
    "plt.title(\"Training & Validation Accuracy\")\n",
    "plt.xlabel('Epochs')\n",
    "plt.ylabel('Accuracy')\n",
    "plt.legend()\n",
    "plt.show()"
   ]
  },
  {
   "cell_type": "markdown",
   "id": "4e09d5e0",
   "metadata": {},
   "source": [
    "### Again overfitting can be seen at epoch 10. The model should be trained for a maximum of 10 epochs. "
   ]
  },
  {
   "cell_type": "markdown",
   "id": "ef83e123",
   "metadata": {},
   "source": [
    "#### Plot 3: Confusion Matrix"
   ]
  },
  {
   "cell_type": "code",
   "execution_count": 23,
   "id": "7458e586",
   "metadata": {},
   "outputs": [],
   "source": [
    "from sklearn.metrics import confusion_matrix,classification_report\n",
    "import seaborn as sns\n",
    "\n",
    "#Predict the test values \n",
    "test_pred_labels = (best_model.predict(test_images)>0.5).astype(\"int32\")\n",
    "\n",
    "cm = confusion_matrix(test_labels,test_pred_labels)\n"
   ]
  },
  {
   "cell_type": "code",
   "execution_count": 30,
   "id": "b690f552",
   "metadata": {},
   "outputs": [
    {
     "name": "stdout",
     "output_type": "stream",
     "text": [
      "              precision    recall  f1-score   support\n",
      "\n",
      "         0.0       0.96      0.94      0.95      1000\n",
      "         1.0       0.94      0.96      0.95      1000\n",
      "\n",
      "    accuracy                           0.95      2000\n",
      "   macro avg       0.95      0.95      0.95      2000\n",
      "weighted avg       0.95      0.95      0.95      2000\n",
      "\n"
     ]
    }
   ],
   "source": [
    "cr1 = classification_report(test_labels,test_pred_labels)\n",
    "print(cr1)"
   ]
  },
  {
   "cell_type": "code",
   "execution_count": 24,
   "id": "d9f93b25",
   "metadata": {},
   "outputs": [
    {
     "data": {
      "image/png": "[encoded data removed]",
      "text/plain": [
       "<Figure size 720x720 with 2 Axes>"
      ]
     },
     "metadata": {
      "needs_background": "light"
     },
     "output_type": "display_data"
    }
   ],
   "source": [
    "plt.figure(figsize = (10,10))\n",
    "labels = ['Zebra', 'Elephant']\n",
    "sns.heatmap(cm/np.sum(cm),fmt = '.2%',annot = True,cmap = 'PuBuGn', yticklabels = labels,xticklabels=labels)\n",
    "sns.set(font_scale = 1.5)\n",
    "plt.ylabel('Actual values')\n",
    "plt.xlabel('Predicted Values')\n",
    "plt.title(\"Model:\\n CNN \\n\\n Test Accuracy:\\n {:.2f}%\".format(test_accuracy))\n",
    "plt.show()\n"
   ]
  },
  {
   "cell_type": "markdown",
   "id": "5c3cce5f",
   "metadata": {},
   "source": [
    "### From the above confusion matrix of the Test Data, the amount of zebra and elephant images are the same. ie. 50% split of the total images in the test set are zebras, and the other, elephants. 47.05% of the total 50% of zebras in the test dataset were correctly predicted, furthermore 47.85% of the total 50% elephants in the test dataset were correctly predicted. This reafirms the 95% accuracy of our model on the test set. "
   ]
  },
  {
   "cell_type": "code",
   "execution_count": 25,
   "id": "6c958c36",
   "metadata": {},
   "outputs": [],
   "source": [
    "from sklearn.metrics import confusion_matrix,classification_report\n",
    "import seaborn as sns\n",
    "\n",
    "#Predict the test values \n",
    "train_pred_labels = (best_model.predict(train_images)>0.5).astype(\"int32\")\n",
    "\n",
    "cm2 = confusion_matrix(train_labels,train_pred_labels)\n"
   ]
  },
  {
   "cell_type": "code",
   "execution_count": 31,
   "id": "63807f41",
   "metadata": {},
   "outputs": [
    {
     "name": "stdout",
     "output_type": "stream",
     "text": [
      "              precision    recall  f1-score   support\n",
      "\n",
      "           0       0.97      0.99      0.98      4913\n",
      "           1       0.99      0.97      0.98      5086\n",
      "\n",
      "    accuracy                           0.98      9999\n",
      "   macro avg       0.98      0.98      0.98      9999\n",
      "weighted avg       0.98      0.98      0.98      9999\n",
      "\n"
     ]
    }
   ],
   "source": [
    "cr2 = classification_report(train_pred_labels,train_labels)\n",
    "print(cr2)"
   ]
  },
  {
   "cell_type": "code",
   "execution_count": 26,
   "id": "66f70f34",
   "metadata": {},
   "outputs": [
    {
     "data": {
      "image/png": "[encoded data removed]",
      "text/plain": [
       "<Figure size 720x720 with 2 Axes>"
      ]
     },
     "metadata": {},
     "output_type": "display_data"
    }
   ],
   "source": [
    "plt.figure(figsize = (10,10))\n",
    "labels = ['Zebra', 'Elephant']\n",
    "sns.heatmap(cm2/np.sum(cm2),fmt = '.2%',annot = True,cmap = 'PuBuGn', yticklabels = labels,xticklabels=labels)\n",
    "sns.set(font_scale = 1.5)\n",
    "plt.ylabel('Actual values')\n",
    "plt.xlabel('Predicted Values')\n",
    "plt.title(\"Model:\\n CNN \\n\\n Training Accuracy:\\n {:.2f}%\".format(training_accuracy))\n",
    "plt.show()"
   ]
  },
  {
   "cell_type": "code",
   "execution_count": null,
   "id": "6fdfae23",
   "metadata": {},
   "outputs": [],
   "source": []
  }
 ],
 "metadata": {
  "kernelspec": {
   "display_name": "Python 3 (ipykernel)",
   "language": "python",
   "name": "python3"
  },
  "language_info": {
   "codemirror_mode": {
    "name": "ipython",
    "version": 3
   },
   "file_extension": ".py",
   "mimetype": "text/x-python",
   "name": "python",
   "nbconvert_exporter": "python",
   "pygments_lexer": "ipython3",
   "version": "3.9.7"
  }
 },
 "nbformat": 4,
 "nbformat_minor": 5
}
