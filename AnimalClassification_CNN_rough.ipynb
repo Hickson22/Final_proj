{
 "cells": [
  {
   "cell_type": "code",
   "execution_count": 1,
   "id": "d0050843",
   "metadata": {},
   "outputs": [],
   "source": [
    "from tensorflow.keras.preprocessing.image import ImageDataGenerator\n",
    "\n",
    "from PIL import Image\n",
    "import numpy as np\n",
    "import pandas as pd\n",
    "import matplotlib.pyplot as plt\n",
    "import glob\n",
    "from skimage import io, color"
   ]
  },
  {
   "cell_type": "code",
   "execution_count": 2,
   "id": "d6267b74",
   "metadata": {},
   "outputs": [],
   "source": [
    "from tensorflow.keras.preprocessing.image import load_img, img_to_array\n",
    "from PIL import Image\n",
    "import numpy as np\n",
    "import pandas as pd\n",
    "import matplotlib.pyplot as plt\n",
    "import glob\n",
    "from skimage import io, color\n",
    "from IPython.display import display\n",
    "from IPython.display import Image\n",
    "from skimage.io.collection import ImageCollection\n",
    "import os"
   ]
  },
  {
   "cell_type": "markdown",
   "id": "00a09f64",
   "metadata": {},
   "source": [
    "## Image Exploration"
   ]
  },
  {
   "cell_type": "code",
   "execution_count": 33,
   "id": "2e5b200d",
   "metadata": {},
   "outputs": [
    {
     "ename": "AttributeError",
     "evalue": "type object 'Image' has no attribute 'open'",
     "output_type": "error",
     "traceback": [
      "\u001b[1;31m---------------------------------------------------------------------------\u001b[0m",
      "\u001b[1;31mAttributeError\u001b[0m                            Traceback (most recent call last)",
      "\u001b[1;32m~\\AppData\\Local\\Temp/ipykernel_11272/1701552128.py\u001b[0m in \u001b[0;36m<module>\u001b[1;34m\u001b[0m\n\u001b[0;32m      1\u001b[0m \u001b[1;31m#Loading and opening a single image. Printing image properties and\u001b[0m\u001b[1;33m\u001b[0m\u001b[1;33m\u001b[0m\u001b[0m\n\u001b[0;32m      2\u001b[0m \u001b[1;31m# image visualization using plt.imshow\u001b[0m\u001b[1;33m\u001b[0m\u001b[1;33m\u001b[0m\u001b[0m\n\u001b[1;32m----> 3\u001b[1;33m \u001b[0mtm\u001b[0m \u001b[1;33m=\u001b[0m \u001b[0mImage\u001b[0m\u001b[1;33m.\u001b[0m\u001b[0mopen\u001b[0m\u001b[1;33m(\u001b[0m\u001b[1;34m'IMG0_elephant'\u001b[0m\u001b[1;33m)\u001b[0m\u001b[1;33m\u001b[0m\u001b[1;33m\u001b[0m\u001b[0m\n\u001b[0m\u001b[0;32m      4\u001b[0m \u001b[0mprint\u001b[0m\u001b[1;33m(\u001b[0m\u001b[0mtm\u001b[0m\u001b[1;33m)\u001b[0m\u001b[1;33m\u001b[0m\u001b[1;33m\u001b[0m\u001b[0m\n\u001b[0;32m      5\u001b[0m \u001b[0mplt\u001b[0m\u001b[1;33m.\u001b[0m\u001b[0mimshow\u001b[0m\u001b[1;33m(\u001b[0m\u001b[0mtm\u001b[0m\u001b[1;33m)\u001b[0m\u001b[1;33m\u001b[0m\u001b[1;33m\u001b[0m\u001b[0m\n",
      "\u001b[1;31mAttributeError\u001b[0m: type object 'Image' has no attribute 'open'"
     ]
    }
   ],
   "source": [
    "#Loading and opening a single image. Printing image properties and \n",
    "# image visualization using plt.imshow\n",
    "tm = Image.open('IMG0_elephant')\n",
    "print(tm)\n",
    "plt.imshow(tm)"
   ]
  },
  {
   "cell_type": "markdown",
   "id": "f2611444",
   "metadata": {},
   "source": [
    "### Training Image Set"
   ]
  },
  {
   "cell_type": "code",
   "execution_count": 3,
   "id": "d5faa553",
   "metadata": {},
   "outputs": [],
   "source": [
    "images_t = glob.glob('Train/*', recursive = False)\n",
    "bin_class_t = np.zeros(len(images_t))\n",
    "\n",
    "for img_t in images_t:\n",
    "    if 'elephant' in img_t:\n",
    "        bin_class_t[images_t.index(img_t)] = 0\n",
    "    else:\n",
    "        bin_class_t[images_t.index(img_t)] = 1\n"
   ]
  },
  {
   "cell_type": "code",
   "execution_count": 4,
   "id": "398eca6f",
   "metadata": {},
   "outputs": [],
   "source": [
    "img_tl = []\n",
    "for img_tr in images_t:\n",
    "       \n",
    "    temp_t = load_img(img_tr)\n",
    "    temp_t = img_to_array(temp_t.resize((50,50)))\n",
    "    img_tl.append(temp_t)\n",
    "\n",
    "img_tlf = np.array(img_tl)/225\n"
   ]
  },
  {
   "cell_type": "code",
   "execution_count": 5,
   "id": "b5d29bb1",
   "metadata": {},
   "outputs": [],
   "source": [
    "train_images = img_tlf.astype('float32')\n",
    "train_labels = np.array(bin_class_t)"
   ]
  },
  {
   "cell_type": "markdown",
   "id": "8b6be43d",
   "metadata": {},
   "source": [
    "### Validation Images Set"
   ]
  },
  {
   "cell_type": "code",
   "execution_count": 6,
   "id": "38fd7deb",
   "metadata": {},
   "outputs": [],
   "source": [
    "images_v = glob.glob('Valid/*', recursive = False)\n",
    "\n",
    "bin_class_v = np.zeros(len(images_v))\n",
    "\n",
    "for img_v in images_v:\n",
    "    if 'elephant' in img_v:\n",
    "        bin_class_v[images_v.index(img_v)] = 0\n",
    "    else:\n",
    "        bin_class_v[images_v.index(img_v)] = 1"
   ]
  },
  {
   "cell_type": "code",
   "execution_count": 7,
   "id": "32d0003c",
   "metadata": {},
   "outputs": [
    {
     "name": "stdout",
     "output_type": "stream",
     "text": [
      "Done\n"
     ]
    }
   ],
   "source": [
    "img_vl = []\n",
    "for img_tsr in images_v:\n",
    "       \n",
    "    temp_v = load_img(img_tsr)\n",
    "    temp_v = img_to_array(temp_v.resize((50,50)))\n",
    "    img_vl.append(temp_v)\n",
    "\n",
    "\n",
    "img_vlf = np.array(img_vl)/225\n",
    "print('Done')"
   ]
  },
  {
   "cell_type": "code",
   "execution_count": 8,
   "id": "f3bc4e07",
   "metadata": {},
   "outputs": [],
   "source": [
    "valid_images = img_vlf.astype('float32')\n",
    "valid_labels = np.array(bin_class_v)"
   ]
  },
  {
   "cell_type": "markdown",
   "id": "2ead5281",
   "metadata": {},
   "source": [
    "### Test Image Set"
   ]
  },
  {
   "cell_type": "code",
   "execution_count": 9,
   "id": "39df1a7a",
   "metadata": {},
   "outputs": [],
   "source": [
    "images_test = glob.glob('Test/*', recursive = False)\n",
    "\n",
    "bin_class_test = np.zeros(len(images_test))\n",
    "\n",
    "for img_ts in images_test:\n",
    "    if 'elephant' in img_ts:\n",
    "        bin_class_test[images_test.index(img_ts)] = 0\n",
    "    else:\n",
    "        bin_class_test[images_test.index(img_ts)] = 1"
   ]
  },
  {
   "cell_type": "code",
   "execution_count": 10,
   "id": "9b78d789",
   "metadata": {},
   "outputs": [
    {
     "name": "stdout",
     "output_type": "stream",
     "text": [
      "Done\n"
     ]
    }
   ],
   "source": [
    "img_testl = []\n",
    "for img_tsr in images_test:\n",
    "       \n",
    "    temp_ts = load_img(img_tsr)\n",
    "    temp_ts = img_to_array(temp_ts.resize((50,50)))\n",
    "    img_testl.append(temp_ts)\n",
    "\n",
    "img_testlf = np.array(img_testl)/225\n",
    "print('Done')"
   ]
  },
  {
   "cell_type": "code",
   "execution_count": 11,
   "id": "c783c1fd",
   "metadata": {},
   "outputs": [],
   "source": [
    "test_images = img_testlf.astype('float32')\n",
    "test_labels = np.array(bin_class_test)"
   ]
  },
  {
   "cell_type": "code",
   "execution_count": 12,
   "id": "f40fa445",
   "metadata": {},
   "outputs": [
    {
     "data": {
      "text/plain": [
       "(9999, 50, 50, 3)"
      ]
     },
     "metadata": {},
     "output_type": "display_data"
    }
   ],
   "source": [
    "display(train_images.shape)"
   ]
  },
  {
   "cell_type": "markdown",
   "id": "96af6619",
   "metadata": {},
   "source": [
    "#### Preprocessing Comment: The image data had been normalised and converted to a float32 type, as this generally speeds up learning and leads to faster convergence."
   ]
  },
  {
   "cell_type": "markdown",
   "id": "bdc7b352",
   "metadata": {},
   "source": [
    "### CNN Model Build "
   ]
  },
  {
   "cell_type": "markdown",
   "id": "3d935907",
   "metadata": {},
   "source": [
    "#### Build Tuned CNN Model"
   ]
  },
  {
   "cell_type": "code",
   "execution_count": 13,
   "id": "344b086a",
   "metadata": {},
   "outputs": [
    {
     "name": "stdout",
     "output_type": "stream",
     "text": [
      "Trial 6 Complete [00h 01m 24s]\n",
      "val_accuracy: 0.8799999952316284\n",
      "\n",
      "Best val_accuracy So Far: 0.9045000076293945\n",
      "Total elapsed time: 00h 10m 02s\n",
      "INFO:tensorflow:Oracle triggered exit\n"
     ]
    }
   ],
   "source": [
    "import tensorflow as tf\n",
    "import matplotlib.pyplot as plt\n",
    "import numpy as np\n",
    "from tensorflow import keras\n",
    "\n",
    "from kerastuner.tuners import RandomSearch\n",
    "\n",
    "\n",
    "def build_model(hp):\n",
    "    model_t = keras.Sequential()\n",
    "    \n",
    "    model_t.add(keras.layers.AveragePooling2D(6,3,input_shape = (50,50,3)))\n",
    "    \n",
    "              \n",
    "    for i in range(hp.Int(\"Convolution Layers\",min_value = 0,max_value=6)):\n",
    "        model_t.add(keras.layers.Conv2D(hp.Choice(f\"layer_{i}_filters\",[32,64,96,128,160]),3,activation = 'relu'))\n",
    "        \n",
    "             \n",
    "    model_t.add(keras.layers.Conv2D(32,3,activation = 'relu'))\n",
    "    model_t.add(keras.layers.MaxPooling2D((2,2),padding='same'))\n",
    "    model_t.add(keras.layers.Dropout(0.5))\n",
    "    model_t.add(keras.layers.Flatten())\n",
    "              \n",
    "    model_t.add(keras.layers.Dense(hp.Choice(\"Dense Layer\",[32,64,128,160]),activation = 'relu'))\n",
    "    model_t.add(keras.layers.Dense(1,activation = 'sigmoid')) \n",
    "    \n",
    "        \n",
    "    model_t.compile(optimizer='adam',\n",
    "             loss = keras.losses.BinaryCrossentropy(from_logits = True), \n",
    "             metrics = ['accuracy'])   #\n",
    "    \n",
    "    return model_t\n",
    "\n",
    "\n",
    "tuner = RandomSearch(\n",
    "        build_model,\n",
    "        objective = 'val_accuracy', \n",
    "        max_trials = 6,\n",
    "        executions_per_trial = 1,\n",
    "        directory = ('CNN'))\n",
    "              \n",
    "tuner.search(train_images,train_labels, validation_data = (valid_images,valid_labels),epochs =5, batch_size = 32)\n"
   ]
  },
  {
   "cell_type": "markdown",
   "id": "9553e05f",
   "metadata": {},
   "source": [
    "#### A CNN model was built for the purpose of classifying images into two categories. As there were only two categories, these categories were handles as binary classification. With the value 1 indicating an Elephant and value 0 indicating a Zebra. As this was binary classification a binary crossentropy loss function was used. With regards to optimization, an Adam optimizer was used for the following reasons:  1) Its computationally and memory efficient. 2) It doesn't require tuning of the learning rate, as it is adaptive. 3) It works well with large datasets, as in our case. Dropout was used in the CNN as a way to ensure generalization of the model.  From the above output (see above cell) , one can see that the CNN model was built using parameters that allowed it to score a 90% accuracy in predicting the correct images from the validation set. The parameters that were tuned was the additional amount of convolution layers and the various filters based to these layers and the fully-connected layers(Density layer). The resulting parameters and filters were: \n",
    "\n",
    "#### Amount of Convolution layers (excluding the permanent one) : 1\n",
    "####  Additional Convolution Layer Filter: 160\n",
    "####  Density Layer Filter: 128\n"
   ]
  },
  {
   "cell_type": "markdown",
   "id": "be31c515",
   "metadata": {},
   "source": [
    "#### Get summary of Results"
   ]
  },
  {
   "cell_type": "code",
   "execution_count": 28,
   "id": "97ccf9d9",
   "metadata": {},
   "outputs": [
    {
     "name": "stdout",
     "output_type": "stream",
     "text": [
      "Results summary\n",
      "Results in CNN\\untitled_project\n",
      "Showing 10 best trials\n",
      "Objective(name='val_accuracy', direction='max')\n",
      "Trial summary\n",
      "Hyperparameters:\n",
      "Convolution Layers: 1\n",
      "Dense Layer: 128\n",
      "layer_0_filters: 160\n",
      "layer_1_filters: 128\n",
      "layer_2_filters: 128\n",
      "layer_3_filters: 128\n",
      "Score: 0.9045000076293945\n",
      "Trial summary\n",
      "Hyperparameters:\n",
      "Convolution Layers: 2\n",
      "Dense Layer: 160\n",
      "layer_0_filters: 32\n",
      "layer_1_filters: 32\n",
      "layer_2_filters: 160\n",
      "layer_3_filters: 160\n",
      "Score: 0.8955000042915344\n",
      "Trial summary\n",
      "Hyperparameters:\n",
      "Convolution Layers: 4\n",
      "Dense Layer: 160\n",
      "layer_0_filters: 128\n",
      "layer_1_filters: 160\n",
      "layer_2_filters: 160\n",
      "layer_3_filters: 128\n",
      "Score: 0.8899999856948853\n",
      "Trial summary\n",
      "Hyperparameters:\n",
      "Convolution Layers: 6\n",
      "Dense Layer: 32\n",
      "layer_0_filters: 64\n",
      "layer_1_filters: 96\n",
      "layer_2_filters: 32\n",
      "layer_3_filters: 64\n",
      "layer_4_filters: 32\n",
      "layer_5_filters: 32\n",
      "Score: 0.8799999952316284\n",
      "Trial summary\n",
      "Hyperparameters:\n",
      "Convolution Layers: 4\n",
      "Dense Layer: 160\n",
      "layer_0_filters: 32\n",
      "layer_1_filters: 32\n",
      "layer_2_filters: 32\n",
      "layer_3_filters: 32\n",
      "Score: 0.8769999742507935\n",
      "Trial summary\n",
      "Hyperparameters:\n",
      "Convolution Layers: 1\n",
      "Dense Layer: 32\n",
      "layer_0_filters: 160\n",
      "layer_1_filters: 96\n",
      "layer_2_filters: 96\n",
      "layer_3_filters: 32\n",
      "Score: 0.8769999742507935\n"
     ]
    }
   ],
   "source": [
    "res = tuner.results_summary()"
   ]
  },
  {
   "cell_type": "code",
   "execution_count": 36,
   "id": "375e9518",
   "metadata": {},
   "outputs": [
    {
     "name": "stdout",
     "output_type": "stream",
     "text": [
      "WARNING:tensorflow:Detecting that an object or model or tf.train.Checkpoint is being deleted with unrestored values. See the following logs for the specific values in question. To silence these warnings, use `status.expect_partial()`. See https://www.tensorflow.org/api_docs/python/tf/train/Checkpoint#restorefor details about the status object returned by the restore function.\n",
      "WARNING:tensorflow:Value in checkpoint could not be found in the restored object: (root).optimizer.iter\n",
      "WARNING:tensorflow:Value in checkpoint could not be found in the restored object: (root).optimizer.beta_1\n",
      "WARNING:tensorflow:Value in checkpoint could not be found in the restored object: (root).optimizer.beta_2\n",
      "WARNING:tensorflow:Value in checkpoint could not be found in the restored object: (root).optimizer.decay\n",
      "WARNING:tensorflow:Value in checkpoint could not be found in the restored object: (root).optimizer.learning_rate\n",
      "Model: \"sequential\"\n",
      "_________________________________________________________________\n",
      " Layer (type)                Output Shape              Param #   \n",
      "=================================================================\n",
      " average_pooling2d (AverageP  (None, 15, 15, 3)        0         \n",
      " ooling2D)                                                       \n",
      "                                                                 \n",
      " conv2d (Conv2D)             (None, 13, 13, 160)       4480      \n",
      "                                                                 \n",
      " conv2d_1 (Conv2D)           (None, 11, 11, 32)        46112     \n",
      "                                                                 \n",
      " max_pooling2d (MaxPooling2D  (None, 6, 6, 32)         0         \n",
      " )                                                               \n",
      "                                                                 \n",
      " dropout (Dropout)           (None, 6, 6, 32)          0         \n",
      "                                                                 \n",
      " flatten (Flatten)           (None, 1152)              0         \n",
      "                                                                 \n",
      " dense (Dense)               (None, 128)               147584    \n",
      "                                                                 \n",
      " dense_1 (Dense)             (None, 1)                 129       \n",
      "                                                                 \n",
      "=================================================================\n",
      "Total params: 198,305\n",
      "Trainable params: 198,305\n",
      "Non-trainable params: 0\n",
      "_________________________________________________________________\n"
     ]
    }
   ],
   "source": [
    "bm = tuner.get_best_models()[0]\n",
    "\n",
    "bm.summary()\n",
    "\n"
   ]
  },
  {
   "cell_type": "markdown",
   "id": "cd772d5d",
   "metadata": {},
   "source": [
    "### See above for the structure of the best performing neural network"
   ]
  },
  {
   "cell_type": "markdown",
   "id": "c8dc5612",
   "metadata": {},
   "source": [
    "#### Get the Best Model "
   ]
  },
  {
   "cell_type": "code",
   "execution_count": 16,
   "id": "7f9a4668",
   "metadata": {},
   "outputs": [],
   "source": [
    "best_model = tuner.get_best_models()[0]\n"
   ]
  },
  {
   "cell_type": "code",
   "execution_count": 17,
   "id": "64b4502f",
   "metadata": {},
   "outputs": [],
   "source": [
    "from keras.callbacks import EarlyStopping"
   ]
  },
  {
   "cell_type": "markdown",
   "id": "81e500d9",
   "metadata": {},
   "source": [
    "#### Set a callback (ie. stop loss) which stops fitting the model once the Validation Loss starts increasing"
   ]
  },
  {
   "cell_type": "code",
   "execution_count": 41,
   "id": "77f9afd7",
   "metadata": {},
   "outputs": [
    {
     "ename": "TypeError",
     "evalue": "fit() got an unexpected keyword argument 'callback'",
     "output_type": "error",
     "traceback": [
      "\u001b[1;31m---------------------------------------------------------------------------\u001b[0m",
      "\u001b[1;31mTypeError\u001b[0m                                 Traceback (most recent call last)",
      "\u001b[1;32m~\\AppData\\Local\\Temp/ipykernel_11272/755430821.py\u001b[0m in \u001b[0;36m<module>\u001b[1;34m\u001b[0m\n\u001b[0;32m      1\u001b[0m \u001b[0mes\u001b[0m \u001b[1;33m=\u001b[0m \u001b[0mEarlyStopping\u001b[0m\u001b[1;33m(\u001b[0m\u001b[0mmonitor\u001b[0m \u001b[1;33m=\u001b[0m \u001b[1;34m'val_loss'\u001b[0m\u001b[1;33m,\u001b[0m\u001b[0mmode\u001b[0m\u001b[1;33m=\u001b[0m\u001b[1;34m'min'\u001b[0m\u001b[1;33m,\u001b[0m\u001b[0mpatience\u001b[0m \u001b[1;33m=\u001b[0m \u001b[1;36m3\u001b[0m\u001b[1;33m)\u001b[0m\u001b[1;33m\u001b[0m\u001b[1;33m\u001b[0m\u001b[0m\n\u001b[1;32m----> 2\u001b[1;33m \u001b[0mhistory\u001b[0m \u001b[1;33m=\u001b[0m \u001b[0mbest_model\u001b[0m\u001b[1;33m.\u001b[0m\u001b[0mfit\u001b[0m\u001b[1;33m(\u001b[0m\u001b[0mtrain_images\u001b[0m\u001b[1;33m,\u001b[0m\u001b[0mtrain_labels\u001b[0m\u001b[1;33m,\u001b[0m \u001b[0mepochs\u001b[0m \u001b[1;33m=\u001b[0m \u001b[1;36m50\u001b[0m\u001b[1;33m,\u001b[0m \u001b[0mbatch_size\u001b[0m \u001b[1;33m=\u001b[0m \u001b[1;36m32\u001b[0m\u001b[1;33m,\u001b[0m \u001b[0mvalidation_data\u001b[0m\u001b[1;33m=\u001b[0m \u001b[1;33m(\u001b[0m\u001b[0mvalid_images\u001b[0m\u001b[1;33m,\u001b[0m\u001b[0mvalid_labels\u001b[0m\u001b[1;33m)\u001b[0m\u001b[1;33m,\u001b[0m \u001b[0mcallback\u001b[0m \u001b[1;33m=\u001b[0m \u001b[1;33m[\u001b[0m\u001b[0mes\u001b[0m\u001b[1;33m]\u001b[0m\u001b[1;33m)\u001b[0m\u001b[1;33m\u001b[0m\u001b[1;33m\u001b[0m\u001b[0m\n\u001b[0m\u001b[0;32m      3\u001b[0m \u001b[1;33m\u001b[0m\u001b[0m\n",
      "\u001b[1;32m~\\Anaconda\\lib\\site-packages\\keras\\utils\\traceback_utils.py\u001b[0m in \u001b[0;36merror_handler\u001b[1;34m(*args, **kwargs)\u001b[0m\n\u001b[0;32m     65\u001b[0m     \u001b[1;32mexcept\u001b[0m \u001b[0mException\u001b[0m \u001b[1;32mas\u001b[0m \u001b[0me\u001b[0m\u001b[1;33m:\u001b[0m  \u001b[1;31m# pylint: disable=broad-except\u001b[0m\u001b[1;33m\u001b[0m\u001b[1;33m\u001b[0m\u001b[0m\n\u001b[0;32m     66\u001b[0m       \u001b[0mfiltered_tb\u001b[0m \u001b[1;33m=\u001b[0m \u001b[0m_process_traceback_frames\u001b[0m\u001b[1;33m(\u001b[0m\u001b[0me\u001b[0m\u001b[1;33m.\u001b[0m\u001b[0m__traceback__\u001b[0m\u001b[1;33m)\u001b[0m\u001b[1;33m\u001b[0m\u001b[1;33m\u001b[0m\u001b[0m\n\u001b[1;32m---> 67\u001b[1;33m       \u001b[1;32mraise\u001b[0m \u001b[0me\u001b[0m\u001b[1;33m.\u001b[0m\u001b[0mwith_traceback\u001b[0m\u001b[1;33m(\u001b[0m\u001b[0mfiltered_tb\u001b[0m\u001b[1;33m)\u001b[0m \u001b[1;32mfrom\u001b[0m \u001b[1;32mNone\u001b[0m\u001b[1;33m\u001b[0m\u001b[1;33m\u001b[0m\u001b[0m\n\u001b[0m\u001b[0;32m     68\u001b[0m     \u001b[1;32mfinally\u001b[0m\u001b[1;33m:\u001b[0m\u001b[1;33m\u001b[0m\u001b[1;33m\u001b[0m\u001b[0m\n\u001b[0;32m     69\u001b[0m       \u001b[1;32mdel\u001b[0m \u001b[0mfiltered_tb\u001b[0m\u001b[1;33m\u001b[0m\u001b[1;33m\u001b[0m\u001b[0m\n",
      "\u001b[1;32m~\\Anaconda\\lib\\site-packages\\keras\\utils\\traceback_utils.py\u001b[0m in \u001b[0;36merror_handler\u001b[1;34m(*args, **kwargs)\u001b[0m\n\u001b[0;32m     62\u001b[0m     \u001b[0mfiltered_tb\u001b[0m \u001b[1;33m=\u001b[0m \u001b[1;32mNone\u001b[0m\u001b[1;33m\u001b[0m\u001b[1;33m\u001b[0m\u001b[0m\n\u001b[0;32m     63\u001b[0m     \u001b[1;32mtry\u001b[0m\u001b[1;33m:\u001b[0m\u001b[1;33m\u001b[0m\u001b[1;33m\u001b[0m\u001b[0m\n\u001b[1;32m---> 64\u001b[1;33m       \u001b[1;32mreturn\u001b[0m \u001b[0mfn\u001b[0m\u001b[1;33m(\u001b[0m\u001b[1;33m*\u001b[0m\u001b[0margs\u001b[0m\u001b[1;33m,\u001b[0m \u001b[1;33m**\u001b[0m\u001b[0mkwargs\u001b[0m\u001b[1;33m)\u001b[0m\u001b[1;33m\u001b[0m\u001b[1;33m\u001b[0m\u001b[0m\n\u001b[0m\u001b[0;32m     65\u001b[0m     \u001b[1;32mexcept\u001b[0m \u001b[0mException\u001b[0m \u001b[1;32mas\u001b[0m \u001b[0me\u001b[0m\u001b[1;33m:\u001b[0m  \u001b[1;31m# pylint: disable=broad-except\u001b[0m\u001b[1;33m\u001b[0m\u001b[1;33m\u001b[0m\u001b[0m\n\u001b[0;32m     66\u001b[0m       \u001b[0mfiltered_tb\u001b[0m \u001b[1;33m=\u001b[0m \u001b[0m_process_traceback_frames\u001b[0m\u001b[1;33m(\u001b[0m\u001b[0me\u001b[0m\u001b[1;33m.\u001b[0m\u001b[0m__traceback__\u001b[0m\u001b[1;33m)\u001b[0m\u001b[1;33m\u001b[0m\u001b[1;33m\u001b[0m\u001b[0m\n",
      "\u001b[1;31mTypeError\u001b[0m: fit() got an unexpected keyword argument 'callback'"
     ]
    }
   ],
   "source": [
    "\n",
    "\n",
    "es = EarlyStopping(monitor = 'val_loss',mode='min',patience = 3)\n",
    "history = best_model.fit(train_images,train_labels, epochs = 50, batch_size = 32, validation_data= (valid_images,valid_labels), callback = [es])\n",
    "\n"
   ]
  },
  {
   "cell_type": "markdown",
   "id": "83c13321",
   "metadata": {},
   "source": [
    "#### See above: The best model was then fitted on the training data set."
   ]
  },
  {
   "cell_type": "code",
   "execution_count": 38,
   "id": "b679f726",
   "metadata": {},
   "outputs": [
    {
     "name": "stdout",
     "output_type": "stream",
     "text": [
      "63/63 [==============================] - 7s 85ms/step - loss: 0.1472 - accuracy: 0.9635\n",
      "Accuracy =  96.35000228881836 %\n"
     ]
    },
    {
     "data": {
      "text/plain": [
       "0.9845984578132629"
      ]
     },
     "metadata": {},
     "output_type": "display_data"
    }
   ],
   "source": [
    "#Extract no. of Epochs model fitted for, and use same no. to evaluate the model on Test Data\n",
    "\n",
    "eps = len(history.history['val_loss'])\n",
    "\n",
    "_,acc = best_model.evaluate(test_images,test_labels)\n",
    "\n",
    "print(\"Accuracy = \",(acc*100.0),\"%\")\n",
    "\n",
    "test_accuracy = acc*100.0\n",
    "\n",
    "#train_acc = max(history.history['accuracy'])\n",
    "#display(train_acc)"
   ]
  },
  {
   "cell_type": "markdown",
   "id": "f87e07d8",
   "metadata": {},
   "source": [
    "### From the above cell one can see that the CNN model can predict whether an image is of a zebra or an elephant with 96% accuracy. "
   ]
  },
  {
   "cell_type": "code",
   "execution_count": 39,
   "id": "de654d4f",
   "metadata": {},
   "outputs": [
    {
     "name": "stdout",
     "output_type": "stream",
     "text": [
      "313/313 [==============================] - 3s 11ms/step - loss: 0.0109 - accuracy: 0.9983\n",
      "Accuracy =  99.82998371124268 %\n"
     ]
    }
   ],
   "source": [
    "eps = len(history.history['val_loss'])\n",
    "\n",
    "_,acc_tr = best_model.evaluate(train_images,train_labels)\n",
    "\n",
    "print(\"Accuracy = \",(acc_tr*100.0),\"%\")\n",
    "\n",
    "training_accuracy = acc_tr*100.0\n"
   ]
  },
  {
   "cell_type": "markdown",
   "id": "4fd99e55",
   "metadata": {},
   "source": [
    "### From the above training accurc"
   ]
  },
  {
   "cell_type": "markdown",
   "id": "be7010bf",
   "metadata": {},
   "source": [
    "### Plots: "
   ]
  },
  {
   "cell_type": "markdown",
   "id": "30aeded3",
   "metadata": {},
   "source": [
    "#### Plot 1: Training & Validation Loss vs Epochs "
   ]
  },
  {
   "cell_type": "code",
   "execution_count": 21,
   "id": "8313a390",
   "metadata": {},
   "outputs": [
    {
     "data": {
      "image/png": "[encoded data removed]",
      "text/plain": [
       "<Figure size 432x288 with 1 Axes>"
      ]
     },
     "metadata": {
      "needs_background": "light"
     },
     "output_type": "display_data"
    }
   ],
   "source": [
    "loss = history.history[\"loss\"]\n",
    "val_loss = history.history[ \"val_loss\"]\n",
    "\n",
    "epochs = range(1,len(loss) + 1)\n",
    "\n",
    "plt.plot(epochs,loss,'y',label = \"Training loss\")\n",
    "plt.plot(epochs, val_loss,'r', label = \"Validation loss\")\n",
    "plt.title(\"Training & Validation Loss\")\n",
    "plt.xlabel('Epochs')\n",
    "plt.ylabel('Loss')\n",
    "plt.legend()\n",
    "plt.show()"
   ]
  },
  {
   "cell_type": "markdown",
   "id": "469b6249",
   "metadata": {},
   "source": [
    "#### Plot 2: Training & Validation Accuracy vs Epochs "
   ]
  },
  {
   "cell_type": "code",
   "execution_count": 22,
   "id": "3b9288f2",
   "metadata": {},
   "outputs": [
    {
     "data": {
      "image/png": "[encoded data removed]",
      "text/plain": [
       "<Figure size 432x288 with 1 Axes>"
      ]
     },
     "metadata": {
      "needs_background": "light"
     },
     "output_type": "display_data"
    }
   ],
   "source": [
    "acc = history.history[\"accuracy\"]\n",
    "val_acc = history.history[ \"val_accuracy\"]\n",
    "\n",
    "plt.plot(epochs,acc,'y',label = \"Training acc\")\n",
    "plt.plot(epochs, val_acc,'r', label = \"Validation acc\")\n",
    "plt.title(\"Training & Validation Accuracy\")\n",
    "plt.xlabel('Epochs')\n",
    "plt.ylabel('Accuracy')\n",
    "plt.legend()\n",
    "plt.show()"
   ]
  },
  {
   "cell_type": "markdown",
   "id": "ef83e123",
   "metadata": {},
   "source": [
    "#### Plot 3: Confusion Matrix"
   ]
  },
  {
   "cell_type": "code",
   "execution_count": 23,
   "id": "7458e586",
   "metadata": {},
   "outputs": [],
   "source": [
    "from sklearn.metrics import confusion_matrix,classification_report\n",
    "import seaborn as sns\n",
    "\n",
    "#Predict the test values \n",
    "test_pred_labels = (best_model.predict(test_images)>0.5).astype(\"int32\")\n",
    "\n",
    "cm = confusion_matrix(test_labels,test_pred_labels)\n"
   ]
  },
  {
   "cell_type": "code",
   "execution_count": 24,
   "id": "d9f93b25",
   "metadata": {},
   "outputs": [
    {
     "data": {
      "image/png": "[encoded data removed]",
      "text/plain": [
       "<Figure size 720x720 with 2 Axes>"
      ]
     },
     "metadata": {
      "needs_background": "light"
     },
     "output_type": "display_data"
    }
   ],
   "source": [
    "plt.figure(figsize = (10,10))\n",
    "labels = ['Zebra', 'Elephant']\n",
    "sns.heatmap(cm/np.sum(cm),fmt = '.2%',annot = True,cmap = 'PuBuGn', yticklabels = labels,xticklabels=labels)\n",
    "sns.set(font_scale = 1.5)\n",
    "plt.ylabel('Actual values')\n",
    "plt.xlabel('Predicted Values')\n",
    "plt.title(\"Model:\\n CNN \\n\\n Test Accuracy:\\n {:.2f}%\".format(test_accuracy))\n",
    "plt.show()\n"
   ]
  },
  {
   "cell_type": "markdown",
   "id": "5c3cce5f",
   "metadata": {},
   "source": [
    "### From the above confusion matrix of the Test Data, the amount of zebra and elephant images are the same. ie. 50% split of the total images in the test set are zebras, and the other, elephants. 46.90% of the total 50% of zebras in the test dataset were correctly predicted, furthermore 45.95% of the total 50% elephants in the test dataset were correctly predicted. This reafirms the 92.85% accuracy of our model on the test set. "
   ]
  },
  {
   "cell_type": "code",
   "execution_count": 25,
   "id": "6c958c36",
   "metadata": {},
   "outputs": [],
   "source": [
    "from sklearn.metrics import confusion_matrix,classification_report\n",
    "import seaborn as sns\n",
    "\n",
    "#Predict the test values \n",
    "train_pred_labels = (best_model.predict(train_images)>0.5).astype(\"int32\")\n",
    "\n",
    "cm2 = confusion_matrix(train_labels,train_pred_labels)\n"
   ]
  },
  {
   "cell_type": "code",
   "execution_count": 26,
   "id": "66f70f34",
   "metadata": {},
   "outputs": [
    {
     "data": {
      "image/png": "[encoded data removed]",
      "text/plain": [
       "<Figure size 720x720 with 2 Axes>"
      ]
     },
     "metadata": {},
     "output_type": "display_data"
    }
   ],
   "source": [
    "plt.figure(figsize = (10,10))\n",
    "labels = ['Zebra', 'Elephant']\n",
    "sns.heatmap(cm2/np.sum(cm2),fmt = '.2%',annot = True,cmap = 'PuBuGn', yticklabels = labels,xticklabels=labels)\n",
    "sns.set(font_scale = 1.5)\n",
    "plt.ylabel('Actual values')\n",
    "plt.xlabel('Predicted Values')\n",
    "plt.title(\"Model:\\n CNN \\n\\n Training Accuracy:\\n {:.2f}%\".format(training_accuracy))\n",
    "plt.show()"
   ]
  },
  {
   "cell_type": "code",
   "execution_count": null,
   "id": "6fdfae23",
   "metadata": {},
   "outputs": [],
   "source": []
  }
 ],
 "metadata": {
  "kernelspec": {
   "display_name": "Python 3 (ipykernel)",
   "language": "python",
   "name": "python3"
  },
  "language_info": {
   "codemirror_mode": {
    "name": "ipython",
    "version": 3
   },
   "file_extension": ".py",
   "mimetype": "text/x-python",
   "name": "python",
   "nbconvert_exporter": "python",
   "pygments_lexer": "ipython3",
   "version": "3.9.7"
  }
 },
 "nbformat": 4,
 "nbformat_minor": 5
}
